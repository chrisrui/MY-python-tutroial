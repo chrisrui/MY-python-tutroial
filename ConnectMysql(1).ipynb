{
 "cells": [
  {
   "cell_type": "code",
   "execution_count": 8,
   "metadata": {},
   "outputs": [],
   "source": [
    "import numpy as np\n",
    "import pandas as pd\n",
    "import pymysql\n",
    "import datetime as dt"
   ]
  },
  {
   "cell_type": "code",
   "execution_count": 2,
   "metadata": {
    "scrolled": false
   },
   "outputs": [],
   "source": [
    "# 开始链接\n",
    "config = {\n",
    "    'host':'rm-bp182zi1u38e0s8o8wo.mysql.rds.aliyuncs.com',\n",
    "    'port':3306,\n",
    "    'user':'meichai',\n",
    "    'passwd':'VAKlVyh7F1eaDlKdUbLW',\n",
    "    'db':'sale',\n",
    "}\n",
    "conn=pymysql.connect(**config)\n"
   ]
  },
  {
   "cell_type": "code",
   "execution_count": 3,
   "metadata": {},
   "outputs": [
    {
     "data": {
      "text/plain": [
       "(('sale_temp',),)"
      ]
     },
     "execution_count": 3,
     "metadata": {},
     "output_type": "execute_result"
    }
   ],
   "source": [
    "# 显示表\n",
    "cursor = conn.cursor()\n",
    "cursor.execute('show tables')\n",
    "data = cursor.fetchall()\n",
    "data"
   ]
  },
  {
   "cell_type": "code",
   "execution_count": 4,
   "metadata": {
    "scrolled": true
   },
   "outputs": [
    {
     "name": "stdout",
     "output_type": "stream",
     "text": [
      "<class 'pandas.core.frame.DataFrame'>\n",
      "Int64Index: 1490203 entries, 0 to 90202\n",
      "Data columns (total 12 columns):\n",
      " #   Column  Non-Null Count    Dtype         \n",
      "---  ------  --------------    -----         \n",
      " 0   0       1490203 non-null  int64         \n",
      " 1   1       1490203 non-null  object        \n",
      " 2   2       1490203 non-null  object        \n",
      " 3   3       1490203 non-null  int64         \n",
      " 4   4       1490203 non-null  object        \n",
      " 5   5       1490203 non-null  int64         \n",
      " 6   6       1490203 non-null  object        \n",
      " 7   7       1490203 non-null  int64         \n",
      " 8   8       1490203 non-null  object        \n",
      " 9   9       1490203 non-null  object        \n",
      " 10  10      1490203 non-null  datetime64[ns]\n",
      " 11  11      1490203 non-null  int64         \n",
      "dtypes: datetime64[ns](1), int64(5), object(6)\n",
      "memory usage: 113.7+ MB\n"
     ]
    }
   ],
   "source": [
    "# 查询\n",
    "cursor = conn.cursor()\n",
    "sql=r'select * from sale_temp limit 1'\n",
    "cursor.execute(sql)\n",
    "columnDes = cursor.description\n",
    "columnNames = [columnDes[i][0] for i in range(len(columnDes))]\n",
    "df=pd.DataFrame()\n",
    "\n",
    "i=1\n",
    "limit=100000\n",
    "\n",
    "while True:\n",
    "    sql = \"select * from sale_temp limit {}, {}\".format(i, limit)\n",
    "    cursor.execute(sql)\n",
    "    rows = cursor.fetchall()\n",
    "\n",
    "    if not len(rows):\n",
    "        break\n",
    "    \n",
    "    df_temp=pd.DataFrame(list(rows))\n",
    "    df=pd.concat([df,df_temp])\n",
    "    \n",
    "\n",
    "    i += limit\n",
    "    \n",
    "df.info()"
   ]
  },
  {
   "cell_type": "code",
   "execution_count": 5,
   "metadata": {},
   "outputs": [
    {
     "name": "stdout",
     "output_type": "stream",
     "text": [
      "<class 'pandas.core.frame.DataFrame'>\n",
      "Int64Index: 1490203 entries, 0 to 90202\n",
      "Data columns (total 12 columns):\n",
      " #   Column           Non-Null Count    Dtype         \n",
      "---  ------           --------------    -----         \n",
      " 0   id               1490203 non-null  int64         \n",
      " 1   idcard           1490203 non-null  object        \n",
      " 2   companyfullname  1490203 non-null  object        \n",
      " 3   companysecid     1490203 non-null  int64         \n",
      " 4   companysecname   1490203 non-null  object        \n",
      " 5   channelid        1490203 non-null  int64         \n",
      " 6   channelname      1490203 non-null  object        \n",
      " 7   projectid        1490203 non-null  int64         \n",
      " 8   projectname      1490203 non-null  object        \n",
      " 9   payroll          1490203 non-null  object        \n",
      " 10  paydate          1490203 non-null  datetime64[ns]\n",
      " 11  risklevel        1490203 non-null  int64         \n",
      "dtypes: datetime64[ns](1), int64(5), object(6)\n",
      "memory usage: 113.7+ MB\n"
     ]
    }
   ],
   "source": [
    "df.columns=columnNames\n",
    "df.info()"
   ]
  },
  {
   "cell_type": "code",
   "execution_count": 6,
   "metadata": {},
   "outputs": [
    {
     "data": {
      "text/plain": [
       "(('id', 3, None, 11, 11, 0, False),\n",
       " ('idcard', 253, None, 200, 200, 0, True),\n",
       " ('companyfullname', 253, None, 400, 400, 0, True),\n",
       " ('companysecid', 8, None, 20, 20, 0, True),\n",
       " ('companysecname', 253, None, 400, 400, 0, True),\n",
       " ('channelid', 8, None, 20, 20, 0, True),\n",
       " ('channelname', 253, None, 400, 400, 0, True),\n",
       " ('projectid', 8, None, 20, 20, 0, True),\n",
       " ('projectname', 253, None, 400, 400, 0, True),\n",
       " ('payroll', 246, None, 12, 12, 2, True),\n",
       " ('paydate', 12, None, 19, 19, 0, True),\n",
       " ('risklevel', 1, None, 4, 4, 0, True))"
      ]
     },
     "execution_count": 6,
     "metadata": {},
     "output_type": "execute_result"
    }
   ],
   "source": [
    "cursor.description"
   ]
  },
  {
   "cell_type": "code",
   "execution_count": 10,
   "metadata": {},
   "outputs": [
    {
     "name": "stdout",
     "output_type": "stream",
     "text": [
      "<class 'pandas.core.frame.DataFrame'>\n",
      "Int64Index: 345729 entries, 30919 to 90202\n",
      "Data columns (total 12 columns):\n",
      " #   Column           Non-Null Count   Dtype         \n",
      "---  ------           --------------   -----         \n",
      " 0   id               345729 non-null  int64         \n",
      " 1   idcard           345729 non-null  object        \n",
      " 2   companyfullname  345729 non-null  object        \n",
      " 3   companysecid     345729 non-null  int64         \n",
      " 4   companysecname   345729 non-null  object        \n",
      " 5   channelid        345729 non-null  int64         \n",
      " 6   channelname      345729 non-null  object        \n",
      " 7   projectid        345729 non-null  int64         \n",
      " 8   projectname      345729 non-null  object        \n",
      " 9   payroll          345729 non-null  object        \n",
      " 10  paydate          345729 non-null  datetime64[ns]\n",
      " 11  risklevel        345729 non-null  int64         \n",
      "dtypes: datetime64[ns](1), int64(5), object(6)\n",
      "memory usage: 26.4+ MB\n"
     ]
    }
   ],
   "source": [
    "df_sep=df[df['paydate']>=dt.datetime(2020,9,1)]\n",
    "df_sep.info()"
   ]
  },
  {
   "cell_type": "code",
   "execution_count": 11,
   "metadata": {},
   "outputs": [
    {
     "data": {
      "text/plain": [
       "id                             6666577\n",
       "idcard              510113199703315016\n",
       "companyfullname         宁波快来人力资源管理有限公司\n",
       "companysecid          1237922331391232\n",
       "companysecname            四川新网银行股份有限公司\n",
       "channelid             1186032750630144\n",
       "channelname            抚州市昆硕网络科技服务有限公司\n",
       "projectid             1245188655478016\n",
       "projectname               四川新网银行股份有限公司\n",
       "payroll                        1920.00\n",
       "paydate            2020-09-16 14:22:05\n",
       "risklevel                            4\n",
       "Name: 30920, dtype: object"
      ]
     },
     "execution_count": 11,
     "metadata": {},
     "output_type": "execute_result"
    }
   ],
   "source": [
    "df_sep.iloc[1]"
   ]
  },
  {
   "cell_type": "code",
   "execution_count": null,
   "metadata": {},
   "outputs": [],
   "source": [
    "for index,row in df.iterrows():\n",
    "    if (df.idcard.value_counts()[row['idcard']]>1 and df[df['idcard']==row['idcard']].channelname.value_counts().shape[0]>1):\n",
    "        df.loc[index,'flag']=1"
   ]
  },
  {
   "cell_type": "code",
   "execution_count": 33,
   "metadata": {},
   "outputs": [],
   "source": [
    "# 关闭链接\n",
    "cursor.close()\n",
    "conn.close()"
   ]
  },
  {
   "cell_type": "code",
   "execution_count": 6,
   "metadata": {},
   "outputs": [],
   "source": [
    "df.to_csv('history_data.csv',index=False)"
   ]
  },
  {
   "cell_type": "code",
   "execution_count": null,
   "metadata": {},
   "outputs": [],
   "source": []
  }
 ],
 "metadata": {
  "kernelspec": {
   "display_name": "Python 3",
   "language": "python",
   "name": "python3"
  },
  "language_info": {
   "codemirror_mode": {
    "name": "ipython",
    "version": 3
   },
   "file_extension": ".py",
   "mimetype": "text/x-python",
   "name": "python",
   "nbconvert_exporter": "python",
   "pygments_lexer": "ipython3",
   "version": "3.8.5"
  }
 },
 "nbformat": 4,
 "nbformat_minor": 4
}
